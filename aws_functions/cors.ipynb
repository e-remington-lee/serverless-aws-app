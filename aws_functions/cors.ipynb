{
 "cells": [
  {
   "cell_type": "code",
   "execution_count": 2,
   "source": [
    "import boto3\r\n",
    "\r\n",
    "bucket_name_str = \"erl-2021-07-17-s3site\"\r\n",
    "\r\n",
    "client = boto3.client('apigateway', region_name='us-east-2')\r\n",
    "client_bucket = boto3.client('s3', region_name='us-east-2')\r\n",
    "bucket = client_bucket.list_buckets()\r\n",
    "\r\n",
    "response = client.get_rest_apis(\r\n",
    "    limit=10\r\n",
    ")\r\n",
    "print(response['items'])"
   ],
   "outputs": [
    {
     "output_type": "stream",
     "name": "stdout",
     "text": [
      "[{'id': 'cyeac92bt6', 'name': 'Fancy-Api', 'description': 'test api', 'createdDate': datetime.datetime(2021, 7, 27, 21, 34, 15, tzinfo=tzlocal()), 'minimumCompressionSize': 123, 'apiKeySource': 'HEADER', 'endpointConfiguration': {'types': ['REGIONAL']}, 'disableExecuteApiEndpoint': False}, {'id': 'sm18ikuwp4', 'name': 'dragons', 'description': 'get dragons', 'createdDate': datetime.datetime(2021, 7, 21, 3, 58, 43, tzinfo=tzlocal()), 'apiKeySource': 'HEADER', 'endpointConfiguration': {'types': ['REGIONAL']}, 'disableExecuteApiEndpoint': False}]\n"
     ]
    }
   ],
   "metadata": {}
  },
  {
   "cell_type": "code",
   "execution_count": 3,
   "source": [
    "ID = response['items'][0]['id']\r\n",
    "resources = client.get_resources(restApiId=ID)\r\n",
    "print(resources)"
   ],
   "outputs": [
    {
     "output_type": "stream",
     "name": "stdout",
     "text": [
      "{'ResponseMetadata': {'RequestId': 'ed23fd34-73dd-40df-ae88-02f7343a4ac3', 'HTTPStatusCode': 200, 'HTTPHeaders': {'date': 'Wed, 28 Jul 2021 03:17:25 GMT', 'content-type': 'application/json', 'content-length': '409', 'connection': 'keep-alive', 'x-amzn-requestid': 'ed23fd34-73dd-40df-ae88-02f7343a4ac3', 'x-amz-apigw-id': 'DKTa5LxlCYcEdyg='}, 'RetryAttempts': 0}, 'items': [{'id': 'ad80p7', 'parentId': 'prkz7qtz7i', 'pathPart': 'get_reviews', 'path': '/get_reviews', 'resourceMethods': {'GET': {}}}, {'id': 'prkz7qtz7i', 'path': '/'}, {'id': 'tymi9k', 'parentId': 'prkz7qtz7i', 'pathPart': 'create_report', 'path': '/create_report', 'resourceMethods': {'POST': {}}}, {'id': 'um97x0', 'parentId': 'prkz7qtz7i', 'pathPart': 'get_av_star_rating', 'path': '/get_av_star_rating', 'resourceMethods': {'GET': {}}}]}\n"
     ]
    }
   ],
   "metadata": {}
  },
  {
   "cell_type": "code",
   "execution_count": 4,
   "source": [
    "create_report_id = [resource for resource in resources[\"items\"] if resource[\"path\"] == \"/create_report\"][0][\"id\"]\r\n",
    "get_reviews_id = [resource for resource in resources[\"items\"] if resource[\"path\"] == \"/get_reviews\"][0][\"id\"]\r\n",
    "get_av_star_rating_id = [resource for resource in resources[\"items\"] if resource[\"path\"] == \"/get_av_star_rating\"][0][\"id\"]"
   ],
   "outputs": [],
   "metadata": {}
  },
  {
   "cell_type": "code",
   "execution_count": 5,
   "source": [
    "options_method = client.put_method(\r\n",
    "    restApiId=ID,\r\n",
    "    resourceId=create_report_id,\r\n",
    "    httpMethod='OPTIONS',\r\n",
    "    authorizationType='NONE'\r\n",
    ")"
   ],
   "outputs": [],
   "metadata": {}
  },
  {
   "cell_type": "code",
   "execution_count": 6,
   "source": [
    "options_mock = client.put_integration(\r\n",
    "    restApiId=ID,\r\n",
    "    resourceId=create_report_id,\r\n",
    "    httpMethod='OPTIONS',\r\n",
    "    type='MOCK',\r\n",
    "    requestTemplates={\r\n",
    "        'application/json': '{\"statusCode\": 200}'\r\n",
    "    }\r\n",
    ")"
   ],
   "outputs": [],
   "metadata": {}
  },
  {
   "cell_type": "code",
   "execution_count": 7,
   "source": [
    "options_method_response = client.put_method_response(\r\n",
    "    restApiId=ID,\r\n",
    "    resourceId=create_report_id,\r\n",
    "    httpMethod='OPTIONS',\r\n",
    "    statusCode='200',\r\n",
    "    responseParameters={\r\n",
    "        'method.response.header.Access-Control-Allow-Headers': True,\r\n",
    "        'method.response.header.Access-Control-Allow-Origin': True,\r\n",
    "        'method.response.header.Access-Control-Allow-Methods': True,\r\n",
    "        'method.response.header.Access-Control-Allow-Credentials': True\r\n",
    "    },\r\n",
    "    responseModels={\r\n",
    "        'application/json': 'Empty'\r\n",
    "    }\r\n",
    ")"
   ],
   "outputs": [],
   "metadata": {}
  },
  {
   "cell_type": "code",
   "execution_count": 8,
   "source": [
    "options_integration_response = client.put_integration_response(\r\n",
    "    restApiId=ID,\r\n",
    "    resourceId=create_report_id,\r\n",
    "    httpMethod='OPTIONS',\r\n",
    "    statusCode='200',\r\n",
    "    responseParameters={\r\n",
    "        'method.response.header.Access-Control-Allow-Headers': '\\'Content-Type,X-Amz-Date,Authorization,X-Api-Key,X-Amz-Security-Token\\'',\r\n",
    "        'method.response.header.Access-Control-Allow-Methods': '\\'POST,OPTIONS\\'',\r\n",
    "        'method.response.header.Access-Control-Allow-Origin': \"'https://\" + bucket_name_str + \".s3-us-west-2.amazonaws.com'\",\r\n",
    "        'method.response.header.Access-Control-Allow-Credentials': \"'true'\"\r\n",
    "\r\n",
    "    },\r\n",
    "    responseTemplates={\r\n",
    "        'application/json': ''\r\n",
    "    }\r\n",
    ")"
   ],
   "outputs": [],
   "metadata": {}
  },
  {
   "cell_type": "code",
   "execution_count": null,
   "source": [],
   "outputs": [],
   "metadata": {}
  }
 ],
 "metadata": {
  "orig_nbformat": 4,
  "language_info": {
   "name": "python",
   "version": "3.7.7",
   "mimetype": "text/x-python",
   "codemirror_mode": {
    "name": "ipython",
    "version": 3
   },
   "pygments_lexer": "ipython3",
   "nbconvert_exporter": "python",
   "file_extension": ".py"
  },
  "kernelspec": {
   "name": "python3",
   "display_name": "Python 3.7.7 64-bit ('venv': venv)"
  },
  "interpreter": {
   "hash": "23bed7671fc62ca0025eb5a680e85f4e29de04187b5fb9536d8daaa054a5a4d8"
  }
 },
 "nbformat": 4,
 "nbformat_minor": 2
}