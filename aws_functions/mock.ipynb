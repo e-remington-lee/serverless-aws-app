{
 "cells": [
  {
   "cell_type": "code",
   "execution_count": 1,
   "source": [
    "import boto3\r\n",
    "\r\n",
    "client = boto3.client('apigateway', region_name='us-east-2')\r\n",
    "\r\n",
    "response = client.create_rest_api(\r\n",
    "    name='Fancy-Api',\r\n",
    "    description='test api',\r\n",
    "    minimumCompressionSize=123,\r\n",
    "    endpointConfiguration={\r\n",
    "        'types': [\r\n",
    "            'REGIONAL',\r\n",
    "        ]\r\n",
    "    }\r\n",
    ")\r\n",
    "api_id = response[\"id\"]\r\n",
    "print(response)"
   ],
   "outputs": [
    {
     "output_type": "stream",
     "name": "stdout",
     "text": [
      "{'ResponseMetadata': {'RequestId': 'cc343b3b-0c9e-4bdf-9ae5-09e8c79f27d2', 'HTTPStatusCode': 201, 'HTTPHeaders': {'date': 'Wed, 28 Jul 2021 01:34:15 GMT', 'content-type': 'application/json', 'content-length': '236', 'connection': 'keep-alive', 'x-amzn-requestid': 'cc343b3b-0c9e-4bdf-9ae5-09e8c79f27d2', 'x-amz-apigw-id': 'DKETtIXBCYcEdjw='}, 'RetryAttempts': 0}, 'id': 'cyeac92bt6', 'name': 'Fancy-Api', 'description': 'test api', 'createdDate': datetime.datetime(2021, 7, 27, 21, 34, 15, tzinfo=tzlocal()), 'minimumCompressionSize': 123, 'apiKeySource': 'HEADER', 'endpointConfiguration': {'types': ['REGIONAL']}, 'disableExecuteApiEndpoint': False}\n"
     ]
    }
   ],
   "metadata": {}
  },
  {
   "cell_type": "code",
   "execution_count": 19,
   "source": [
    "api_id = response[\"id\"]\r\n",
    "\r\n",
    "resources = client.get_resources(restApiId=api_id)\r\n",
    "print(resources)"
   ],
   "outputs": [
    {
     "output_type": "stream",
     "name": "stdout",
     "text": [
      "{'ResponseMetadata': {'RequestId': 'c49a27bc-62ea-4d0f-b16c-5c62f9df3467', 'HTTPStatusCode': 200, 'HTTPHeaders': {'date': 'Wed, 28 Jul 2021 01:43:04 GMT', 'content-type': 'application/json', 'content-length': '129', 'connection': 'keep-alive', 'x-amzn-requestid': 'c49a27bc-62ea-4d0f-b16c-5c62f9df3467', 'x-amz-apigw-id': 'DKFmRKMhiYcEdjw='}, 'RetryAttempts': 0}, 'items': [{'id': 'ad80p7', 'parentId': 'prkz7qtz7i', 'pathPart': 'get_reviews', 'path': '/get_reviews'}, {'id': 'prkz7qtz7i', 'path': '/'}]}\n"
     ]
    }
   ],
   "metadata": {}
  },
  {
   "cell_type": "code",
   "execution_count": 12,
   "source": [
    "\r\n",
    "root_id = [x for x in resources[\"items\"] if x[\"path\"] == \"/\"][0]['id']\r\n",
    "print(root_id)"
   ],
   "outputs": [
    {
     "output_type": "stream",
     "name": "stdout",
     "text": [
      "prkz7qtz7i\n"
     ]
    }
   ],
   "metadata": {}
  },
  {
   "cell_type": "code",
   "execution_count": 18,
   "source": [
    "get_reviews = client.create_resource(\r\n",
    "    restApiId=api_id,\r\n",
    "    parentId=root_id,\r\n",
    "    pathPart='get_reviews'\r\n",
    ")\r\n"
   ],
   "outputs": [
    {
     "output_type": "stream",
     "name": "stdout",
     "text": [
      "[{'id': 'ad80p7', 'parentId': 'prkz7qtz7i', 'pathPart': 'get_reviews', 'path': '/get_reviews'}, {'id': 'prkz7qtz7i', 'path': '/'}]\n"
     ]
    }
   ],
   "metadata": {}
  },
  {
   "cell_type": "code",
   "execution_count": 20,
   "source": [
    "get_reviews_id = 'ad80p7'"
   ],
   "outputs": [],
   "metadata": {}
  },
  {
   "cell_type": "code",
   "execution_count": 21,
   "source": [
    "get_av_star_rating = client.create_resource(\r\n",
    "    restApiId=api_id,\r\n",
    "    parentId=root_id,\r\n",
    "    pathPart='get_av_star_rating'\r\n",
    ")"
   ],
   "outputs": [],
   "metadata": {}
  },
  {
   "cell_type": "code",
   "execution_count": 25,
   "source": [
    "resources = client.get_resources(restApiId=api_id)\r\n",
    "print(resources['items'])"
   ],
   "outputs": [
    {
     "output_type": "stream",
     "name": "stdout",
     "text": [
      "[{'id': 'ad80p7', 'parentId': 'prkz7qtz7i', 'pathPart': 'get_reviews', 'path': '/get_reviews'}, {'id': 'prkz7qtz7i', 'path': '/'}, {'id': 'tymi9k', 'parentId': 'prkz7qtz7i', 'pathPart': 'create_report', 'path': '/create_report'}, {'id': 'um97x0', 'parentId': 'prkz7qtz7i', 'pathPart': 'get_av_star_rating', 'path': '/get_av_star_rating'}]\n"
     ]
    }
   ],
   "metadata": {}
  },
  {
   "cell_type": "code",
   "execution_count": 23,
   "source": [
    "get_av_star_rating_id = get_av_star_rating[\"id\"]"
   ],
   "outputs": [],
   "metadata": {}
  },
  {
   "cell_type": "code",
   "execution_count": 24,
   "source": [
    "create_report = client.create_resource(\r\n",
    "    restApiId=api_id,\r\n",
    "    parentId=root_id,\r\n",
    "    pathPart='create_report'\r\n",
    ")\r\n",
    "create_report_id = create_report[\"id\"]"
   ],
   "outputs": [],
   "metadata": {}
  },
  {
   "cell_type": "code",
   "execution_count": 26,
   "source": [
    "post_method = client.put_method(\r\n",
    "    restApiId=api_id,\r\n",
    "    resourceId=create_report_id,\r\n",
    "    httpMethod='POST',\r\n",
    "    authorizationType='NONE'\r\n",
    "\r\n",
    ")\r\n",
    "\r\n",
    "get_method = client.put_method(\r\n",
    "    restApiId=api_id,\r\n",
    "    resourceId=get_reviews_id,\r\n",
    "    httpMethod='GET',\r\n",
    "    authorizationType='NONE',\r\n",
    "    requestParameters={\r\n",
    "        'method.request.querystring.product_id': False\r\n",
    "    }\r\n",
    ")\r\n",
    "\r\n",
    "get_method2 = client.put_method(\r\n",
    "    restApiId=api_id,\r\n",
    "    resourceId=get_av_star_rating_id,\r\n",
    "    httpMethod='GET',\r\n",
    "    authorizationType='NONE',\r\n",
    "    requestParameters={\r\n",
    "        'method.request.querystring.product_id': False\r\n",
    "    }\r\n",
    ")"
   ],
   "outputs": [],
   "metadata": {}
  },
  {
   "cell_type": "code",
   "execution_count": 27,
   "source": [
    "post_mock = client.put_integration(\r\n",
    "    restApiId=api_id,\r\n",
    "    resourceId=create_report_id,\r\n",
    "    httpMethod='POST',\r\n",
    "    type='MOCK',\r\n",
    "    requestTemplates={\r\n",
    "        'application/json': '{\"statusCode\": 200}'\r\n",
    "    }\r\n",
    ")\r\n",
    "\r\n",
    "get_mock = client.put_integration(\r\n",
    "    restApiId=api_id,\r\n",
    "    resourceId=get_reviews_id,\r\n",
    "    httpMethod='GET',\r\n",
    "    type='MOCK',\r\n",
    "    requestTemplates={\r\n",
    "        'application/json': '{\"statusCode\": 200}'\r\n",
    "    }\r\n",
    ")\r\n",
    "\r\n",
    "get_mock2 = client.put_integration(\r\n",
    "    restApiId=api_id,\r\n",
    "    resourceId=get_av_star_rating_id,\r\n",
    "    httpMethod='GET',\r\n",
    "    type='MOCK',\r\n",
    "    requestTemplates={\r\n",
    "        'application/json': '{\"statusCode\": 200}'\r\n",
    "    }\r\n",
    ")"
   ],
   "outputs": [],
   "metadata": {}
  },
  {
   "cell_type": "code",
   "execution_count": 28,
   "source": [
    "post_method_response = client.put_method_response(\r\n",
    "    restApiId=api_id,\r\n",
    "    resourceId=create_report_id,\r\n",
    "    httpMethod='POST',\r\n",
    "    statusCode='200',\r\n",
    "    responseParameters={\r\n",
    "        'method.response.header.Access-Control-Allow-Headers': False,\r\n",
    "        'method.response.header.Access-Control-Allow-Origin': False,\r\n",
    "        'method.response.header.Access-Control-Allow-Methods': False\r\n",
    "    },\r\n",
    "    responseModels={\r\n",
    "        'application/json': 'Empty'\r\n",
    "    }\r\n",
    ")\r\n",
    "\r\n",
    "get_method_response1 = client.put_method_response(\r\n",
    "    restApiId=api_id,\r\n",
    "    resourceId=get_reviews_id,\r\n",
    "    httpMethod='GET',\r\n",
    "    statusCode='200',\r\n",
    "    responseParameters={\r\n",
    "        'method.response.header.Access-Control-Allow-Headers': False,\r\n",
    "        'method.response.header.Access-Control-Allow-Origin': False,\r\n",
    "        'method.response.header.Access-Control-Allow-Methods': False\r\n",
    "    },\r\n",
    "    responseModels={\r\n",
    "        'application/json': 'Empty'\r\n",
    "    }\r\n",
    ")\r\n",
    "\r\n",
    "get_method_response2 = client.put_method_response(\r\n",
    "    restApiId=api_id,\r\n",
    "    resourceId=get_av_star_rating_id,\r\n",
    "    httpMethod='GET',\r\n",
    "    statusCode='200',\r\n",
    "    responseParameters={\r\n",
    "        'method.response.header.Access-Control-Allow-Headers': False,\r\n",
    "        'method.response.header.Access-Control-Allow-Origin': False,\r\n",
    "        'method.response.header.Access-Control-Allow-Methods': False\r\n",
    "    },\r\n",
    "    responseModels={\r\n",
    "        'application/json': 'Empty'\r\n",
    "    }\r\n",
    ")"
   ],
   "outputs": [],
   "metadata": {}
  },
  {
   "cell_type": "code",
   "execution_count": 29,
   "source": [
    "post_integration_response = client.put_integration_response(\r\n",
    "    restApiId=api_id,\r\n",
    "    resourceId=create_report_id,\r\n",
    "    httpMethod='POST',\r\n",
    "    statusCode='200',\r\n",
    "    responseParameters={\r\n",
    "        'method.response.header.Access-Control-Allow-Headers': '\\'Content-Type,X-Amz-Date,Authorization,X-Api-Key,X-Amz-Security-Token\\'',\r\n",
    "        'method.response.header.Access-Control-Allow-Methods': '\\'POST\\'',\r\n",
    "        'method.response.header.Access-Control-Allow-Origin': '\\'*\\''\r\n",
    "    },\r\n",
    "    responseTemplates={\r\n",
    "        'application/json': '\"message_str\": \"report requested, check your phone shortly\"'\r\n",
    "    }\r\n",
    ")\r\n",
    "\r\n",
    "get_integration_response1 = client.put_integration_response(\r\n",
    "    restApiId=api_id,\r\n",
    "    resourceId=get_reviews_id,\r\n",
    "    httpMethod='GET',\r\n",
    "    statusCode='200',\r\n",
    "    responseParameters={\r\n",
    "        'method.response.header.Access-Control-Allow-Headers': '\\'Content-Type,X-Amz-Date,Authorization,X-Api-Key,X-Amz-Security-Token\\'',\r\n",
    "        'method.response.header.Access-Control-Allow-Methods': '\\'GET\\'',\r\n",
    "        'method.response.header.Access-Control-Allow-Origin': '\\'*\\''\r\n",
    "    },\r\n",
    "    responseTemplates={\r\n",
    "        'application/json': '{\"product_id_str\" : \"$input.params(\"product_id\")\",\"reviews_arr\": [{\"review_body_str\": \"Both the dropcam and nest cam have an embarrassingly bad WIFI algorithm when there are multiple access points with the same name (SID) near it.  (I have a tall house and I need multiple WIFI access points)  When you have this situation, the cameras lose connectivity all the time. The obvious workaround is to dedicate a WIFI access point specifically for the Nest Cam, which is annoying.  Why Nest cant or wont fix this is beyond me.  I know of no other WIFI enabled device that is this dumb about WIFI connectivity.  Until this is fixed it stays a 3\",\"rating_float\": 3.25}, {\"review_body_str\": \"It was easy to setup with a small hiccup during the scanning of the barcode on the back.  I still have issues with the software not loading correctly on my phone which customer service has said they are working on fixing.  The app hangs quite often when loading it from a push notification where I either get single spinners or double spinners.<br /><br />I do wish the monthly/yearly fees for video retention were better or there was maybe a network based solution for video storage as I would like to buy more of these and use them as a whole house system but would get quite pricy\",\"rating_float\": 2.25}, {\"review_body_str\": \"Ive had this device for a few weeks now and I really like it.  It was easy to setup and its easy to use.  I already have a Nest thermostat which I love and I now use the same app (on Android) to manage the camera.  It is really cool to be able to view the camera from my phone wherever I am.  There are some small kinks which seem to need work in the app.  For example, clicking on the notification will open the app and infinitely try to load the image from the camera history.  If you dont pay for the history it was just infinitely load... you could wait an hour it will never load an image.  You have to back out of the app and open it again to see the image.  Also, the camera should come with at least one day or a few hours of video history included for free.  It would be great to have the option to cache video history to my own computer or network device.  Without paying the subscription fee you have ZERO video history.  You will get a notification that the camera detected motion.... but you cant see it because its usually over before you can open the app.  The camera is pretty much useless without video history... but the prices for history are not cheap.  If you dont mind paying a monthly fee... is a great device with excellent build quality and image quality.\",\"rating_float\": 4.25}, {\"review_body_str\": \"I was hoping to use this for outdoor surveillance.  Proved to be too difficult to isolate zones where breezy plants wouldnt trigger unwanted alerts.  On one occasion, I received motion alerts when camera was allegedly off, which made me uncomfortable about when video was/wasnt being sent to cloud.  App had a bad habit of turning off my motion zones so my alerts were not useful.  Camera pours off heat.  Seems overall like an unrefined product not on par with the Nest thermostat which I own and like.\",\"rating_float\": 3.50}]}'\r\n",
    "\r\n",
    "    }\r\n",
    ")\r\n",
    "\r\n",
    "get_integration_response2 = client.put_integration_response(\r\n",
    "    restApiId=api_id,\r\n",
    "    resourceId=get_av_star_rating_id,\r\n",
    "    httpMethod='GET',\r\n",
    "    statusCode='200',\r\n",
    "    responseParameters={\r\n",
    "        'method.response.header.Access-Control-Allow-Headers': '\\'Content-Type,X-Amz-Date,Authorization,X-Api-Key,X-Amz-Security-Token\\'',\r\n",
    "        'method.response.header.Access-Control-Allow-Methods': '\\'GET\\'',\r\n",
    "        'method.response.header.Access-Control-Allow-Origin': '\\'*\\''\r\n",
    "    },\r\n",
    "    responseTemplates={\r\n",
    "        'application/json': '{\"product_id_str\" : \"$input.params(\"product_id\")\",\"average_star_review_float\":  \"3.25\"}'\r\n",
    "    }\r\n",
    ")\r\n",
    "\r\n",
    "print (\"DONE\")"
   ],
   "outputs": [],
   "metadata": {}
  },
  {
   "cell_type": "code",
   "execution_count": 4,
   "source": [
    "import subprocess \r\n",
    "\r\n",
    "bucket_name_str = subprocess.getoutput('aws s3api list-buckets')\r\n",
    "print(bucket_name_str)"
   ],
   "outputs": [
    {
     "output_type": "stream",
     "name": "stdout",
     "text": [
      "2021-07-17 01:35:47 erl-2021-07-17-s3site\n",
      "2021-07-16 14:23:11 test-bucket-1-erl-1234\n"
     ]
    }
   ],
   "metadata": {}
  },
  {
   "cell_type": "code",
   "execution_count": null,
   "source": [],
   "outputs": [],
   "metadata": {}
  }
 ],
 "metadata": {
  "orig_nbformat": 4,
  "language_info": {
   "name": "python",
   "version": "3.7.7",
   "mimetype": "text/x-python",
   "codemirror_mode": {
    "name": "ipython",
    "version": 3
   },
   "pygments_lexer": "ipython3",
   "nbconvert_exporter": "python",
   "file_extension": ".py"
  },
  "kernelspec": {
   "name": "python3",
   "display_name": "Python 3.7.7 64-bit ('venv': venv)"
  },
  "interpreter": {
   "hash": "23bed7671fc62ca0025eb5a680e85f4e29de04187b5fb9536d8daaa054a5a4d8"
  }
 },
 "nbformat": 4,
 "nbformat_minor": 2
}